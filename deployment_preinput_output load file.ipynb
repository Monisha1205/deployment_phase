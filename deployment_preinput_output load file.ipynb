{
 "cells": [
  {
   "cell_type": "code",
   "execution_count": 1,
   "id": "7419efb8",
   "metadata": {},
   "outputs": [],
   "source": [
    "import pickle"
   ]
  },
  {
   "cell_type": "code",
   "execution_count": 2,
   "id": "69af726d",
   "metadata": {},
   "outputs": [],
   "source": [
    "with open('deployment_input_ouput.pkl', 'rb') as file:\n",
    "    saved_data = pickle.load(file)\n",
    "    x_train = saved_data['x_train']\n",
    "    x_test = saved_data['x_test']\n",
    "    y_train = saved_data['y_train']\n",
    "    y_test = saved_data['y_test']\n",
    "    independent= saved_data['independent']\n",
    "    dependent= saved_data['dependent']\n",
    "    sc= saved_data['sc']\n",
    "    fitted_params_x= saved_data['fitted_params_x']\n",
    "    scy= saved_data['scy']\n",
    "    fitter_params_y= saved_data['fitted_params_y']"
   ]
  },
  {
   "cell_type": "code",
   "execution_count": 5,
   "id": "89d1dbcf",
   "metadata": {},
   "outputs": [
    {
     "name": "stderr",
     "output_type": "stream",
     "text": [
      "C:\\Users\\Admin\\anaconda3\\envs\\AIcoures\\lib\\site-packages\\sklearn\\base.py:451: UserWarning: X does not have valid feature names, but StandardScaler was fitted with feature names\n",
      "  \"X does not have valid feature names, but\"\n"
     ]
    }
   ],
   "source": [
    "new_data_scaled = sc.transform([[12300,15000,582469,0,1]])"
   ]
  },
  {
   "cell_type": "code",
   "execution_count": 8,
   "id": "a54be51a",
   "metadata": {},
   "outputs": [
    {
     "data": {
      "text/plain": [
       "array([-0.91472938])"
      ]
     },
     "execution_count": 8,
     "metadata": {},
     "output_type": "execute_result"
    }
   ],
   "source": [
    "loaded_model=pickle.load(open(\"finalized_model_preinput_output.sav\",\"rb\"))\n",
    "result=loaded_model.predict(new_data_scaled)\n",
    "result"
   ]
  },
  {
   "cell_type": "code",
   "execution_count": 9,
   "id": "7e85ed58",
   "metadata": {},
   "outputs": [
    {
     "data": {
      "text/plain": [
       "array([[70880.2835]])"
      ]
     },
     "execution_count": 9,
     "metadata": {},
     "output_type": "execute_result"
    }
   ],
   "source": [
    "preoutput=scy.inverse_transform([result])\n",
    "preoutput"
   ]
  },
  {
   "cell_type": "code",
   "execution_count": null,
   "id": "d728f832",
   "metadata": {},
   "outputs": [],
   "source": []
  }
 ],
 "metadata": {
  "kernelspec": {
   "display_name": "Python 3 (ipykernel)",
   "language": "python",
   "name": "python3"
  },
  "language_info": {
   "codemirror_mode": {
    "name": "ipython",
    "version": 3
   },
   "file_extension": ".py",
   "mimetype": "text/x-python",
   "name": "python",
   "nbconvert_exporter": "python",
   "pygments_lexer": "ipython3",
   "version": "3.7.6"
  }
 },
 "nbformat": 4,
 "nbformat_minor": 5
}
